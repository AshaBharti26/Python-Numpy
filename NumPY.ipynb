{
 "cells": [
  {
   "cell_type": "code",
   "execution_count": 14,
   "id": "efad46e0",
   "metadata": {},
   "outputs": [
    {
     "name": "stdout",
     "output_type": "stream",
     "text": [
      "Requirement already satisfied: numpy in c:\\users\\navgurukul\\anaconda3\\envs\\myasha\\lib\\site-packages (1.26.4)\n",
      "Note: you may need to restart the kernel to use updated packages.\n"
     ]
    }
   ],
   "source": [
    "pip install numpy"
   ]
  },
  {
   "cell_type": "markdown",
   "id": "275d0352",
   "metadata": {},
   "source": [
    "# creating numpy"
   ]
  },
  {
   "cell_type": "code",
   "execution_count": 18,
   "id": "0f0c0dff",
   "metadata": {
    "scrolled": true
   },
   "outputs": [
    {
     "name": "stdout",
     "output_type": "stream",
     "text": [
      "[2 3 4]\n"
     ]
    }
   ],
   "source": [
    "import numpy as np\n",
    "# Vector: A 1-dimensional array\n",
    "\n",
    "a=np.array([2,3,4])\n",
    "print(a)"
   ]
  },
  {
   "cell_type": "code",
   "execution_count": null,
   "id": "649924ce",
   "metadata": {},
   "outputs": [],
   "source": [
    "import numpy as np\n",
    "#Matrix: A 2-dimensional array\n",
    "\n",
    "a=np.array([[2,3,4],[5,6,7]])\n",
    "print(a)"
   ]
  },
  {
   "cell_type": "code",
   "execution_count": 20,
   "id": "b0efcce6",
   "metadata": {},
   "outputs": [
    {
     "name": "stdout",
     "output_type": "stream",
     "text": [
      "[[[2 3 4]\n",
      "  [4 5 6]\n",
      "  [1 2 3]]\n",
      "\n",
      " [[2 3 4]\n",
      "  [6 7 8]\n",
      "  [5 6 7]]]\n"
     ]
    }
   ],
   "source": [
    "import numpy as np\n",
    "# Tensor:3-dimensional array can represent a 3D tensor\n",
    "\n",
    "a=np.array([[[2,3,4],[4,5,6],[1,2,3]],[[2,3,4],[6,7,8],[5,6,7]]])\n",
    "print(a)"
   ]
  },
  {
   "cell_type": "code",
   "execution_count": 23,
   "id": "4cb52af0",
   "metadata": {},
   "outputs": [
    {
     "name": "stdout",
     "output_type": "stream",
     "text": [
      "[[2. 3. 4.]\n",
      " [5. 6. 7.]]\n",
      "[[ True  True  True]\n",
      " [ True  True  True]]\n"
     ]
    }
   ],
   "source": [
    "import numpy as np\n",
    "# create array with speicific datatype\n",
    "a=np.array([[2,3,4],[5,6,7]],dtype=float)\n",
    "print(a)\n",
    "b=np.array([[2,3,4],[5,6,7]],dtype=bool)\n",
    "print(b)"
   ]
  },
  {
   "cell_type": "code",
   "execution_count": 26,
   "id": "ab5d1300",
   "metadata": {},
   "outputs": [
    {
     "name": "stdout",
     "output_type": "stream",
     "text": [
      "[ 1  2  3  4  5  6  7  8  9 10]\n",
      "[1 3 5 7 9]\n"
     ]
    }
   ],
   "source": [
    "# arange\n",
    "a=np.arange(1,11)\n",
    "print(a)\n",
    "b=np.arange(1,11,2)\n",
    "print(b)"
   ]
  },
  {
   "cell_type": "code",
   "execution_count": 42,
   "id": "775b5f37",
   "metadata": {
    "scrolled": true
   },
   "outputs": [
    {
     "name": "stdout",
     "output_type": "stream",
     "text": [
      "[[ 1  2]\n",
      " [ 3  4]\n",
      " [ 5  6]\n",
      " [ 7  8]\n",
      " [ 9 10]\n",
      " [11 12]\n",
      " [13 14]\n",
      " [15 16]\n",
      " [17 18]\n",
      " [19 20]]\n",
      "\n",
      "[[[ 1  2]\n",
      "  [ 3  4]]\n",
      "\n",
      " [[ 5  6]\n",
      "  [ 7  8]]\n",
      "\n",
      " [[ 9 10]\n",
      "  [11 12]]\n",
      "\n",
      " [[13 14]\n",
      "  [15 16]]\n",
      "\n",
      " [[17 18]\n",
      "  [19 20]]]\n"
     ]
    }
   ],
   "source": [
    "a=np.arange(1,21).reshape(10,2)\n",
    "print(a)\n",
    "print()\n",
    "b=np.arange(1,21).reshape(5,2,2)\n",
    "print(b)"
   ]
  },
  {
   "cell_type": "code",
   "execution_count": 37,
   "id": "f93acf85",
   "metadata": {},
   "outputs": [
    {
     "name": "stdout",
     "output_type": "stream",
     "text": [
      "[[1. 1. 1. 1.]\n",
      " [1. 1. 1. 1.]\n",
      " [1. 1. 1. 1.]]\n",
      "\n",
      "[[1 1 1 1]\n",
      " [1 1 1 1]\n",
      " [1 1 1 1]]\n",
      "\n",
      "[[0 0 0 0 0]\n",
      " [0 0 0 0 0]\n",
      " [0 0 0 0 0]\n",
      " [0 0 0 0 0]]\n"
     ]
    }
   ],
   "source": [
    "# np.ones and np.zeros\n",
    "\n",
    "a=np.ones((3,4))\n",
    "print(a)\n",
    "print()\n",
    "b=np.ones((3,4),dtype=int)\n",
    "print(b)\n",
    "print()\n",
    "c=np.zeros((4,5),dtype=int)\n",
    "print(c)"
   ]
  },
  {
   "cell_type": "code",
   "execution_count": 38,
   "id": "2f966719",
   "metadata": {},
   "outputs": [
    {
     "name": "stdout",
     "output_type": "stream",
     "text": [
      "[[0.8537169  0.94106161 0.77809779 0.72317036]\n",
      " [0.07963798 0.73011334 0.25003442 0.67945001]\n",
      " [0.59213629 0.623848   0.38051295 0.72107826]]\n"
     ]
    }
   ],
   "source": [
    "# random.random\n",
    "a=np.random.random((3,4))\n",
    "print(a)"
   ]
  },
  {
   "cell_type": "code",
   "execution_count": 40,
   "id": "07671c27",
   "metadata": {},
   "outputs": [
    {
     "name": "stdout",
     "output_type": "stream",
     "text": [
      "[ 10  11  13  15  17  19  21  22  24  26  28  30  32  33  35  37  39  41\n",
      "  43  44  46  48  50  52  54  55  57  59  61  63  65  66  68  70  72  74\n",
      "  76  77  79  81  83  85  87  88  90  92  94  96  98 100]\n"
     ]
    }
   ],
   "source": [
    "# linspace\n",
    "a=np.linspace(10,100,50,dtype=int)\n",
    "print(a)"
   ]
  },
  {
   "cell_type": "code",
   "execution_count": 41,
   "id": "6d61633c",
   "metadata": {},
   "outputs": [
    {
     "name": "stdout",
     "output_type": "stream",
     "text": [
      "[[1. 0. 0. 0.]\n",
      " [0. 1. 0. 0.]\n",
      " [0. 0. 1. 0.]\n",
      " [0. 0. 0. 1.]]\n"
     ]
    }
   ],
   "source": [
    "# indentity\n",
    "\n",
    "a=np.identity(4)\n",
    "print(a)"
   ]
  },
  {
   "cell_type": "markdown",
   "id": "b8483867",
   "metadata": {},
   "source": [
    "# Attributes of numpy array"
   ]
  },
  {
   "cell_type": "code",
   "execution_count": 46,
   "id": "2932823e",
   "metadata": {
    "scrolled": true
   },
   "outputs": [
    {
     "name": "stdout",
     "output_type": "stream",
     "text": [
      "1\n",
      "2\n"
     ]
    }
   ],
   "source": [
    "# ndim for know dimention of an array\n",
    "a=np.array([2,3,4])\n",
    "print(a.ndim)\n",
    "\n",
    "b=np.identity(4)\n",
    "print(b.ndim)"
   ]
  },
  {
   "cell_type": "code",
   "execution_count": 48,
   "id": "3deddef6",
   "metadata": {},
   "outputs": [
    {
     "name": "stdout",
     "output_type": "stream",
     "text": [
      "(3,)\n",
      "(4, 4)\n",
      "(5, 2, 2)\n"
     ]
    }
   ],
   "source": [
    "# shape for tell how many rows and column in array\n",
    "\n",
    "a=np.array([2,3,4])\n",
    "print(a.shape)\n",
    "\n",
    "c=np.identity(4)\n",
    "print(c.shape)\n",
    "\n",
    "b=np.arange(1,21).reshape(5,2,2)\n",
    "print(b.shape)"
   ]
  },
  {
   "cell_type": "code",
   "execution_count": 51,
   "id": "00d0a473",
   "metadata": {},
   "outputs": [
    {
     "name": "stdout",
     "output_type": "stream",
     "text": [
      "3\n",
      "16\n",
      "20\n"
     ]
    }
   ],
   "source": [
    "# size how many item in array\n",
    "a=np.array([2,3,4])\n",
    "print(a.size)\n",
    "\n",
    "c=np.identity(4)\n",
    "print(c.size)\n",
    "\n",
    "b=np.arange(1,21).reshape(5,2,2)\n",
    "print(b.size)\n"
   ]
  },
  {
   "cell_type": "code",
   "execution_count": 53,
   "id": "5acbf433",
   "metadata": {},
   "outputs": [
    {
     "name": "stdout",
     "output_type": "stream",
     "text": [
      "4\n",
      "8\n"
     ]
    }
   ],
   "source": [
    "# itemsize how many take storange in memory\n",
    "\n",
    "a=np.array([2,3,4])\n",
    "print(a.itemsize)\n",
    "\n",
    "b=np.array([2,3,4],dtype=np.int64)\n",
    "print(b.itemsize)"
   ]
  },
  {
   "cell_type": "code",
   "execution_count": 60,
   "id": "af6d22fd",
   "metadata": {
    "scrolled": true
   },
   "outputs": [
    {
     "name": "stdout",
     "output_type": "stream",
     "text": [
      "int32\n",
      "int64\n",
      "float64\n"
     ]
    }
   ],
   "source": [
    "#dtype describe data type of array\n",
    "\n",
    "a=np.array([2,3,4])\n",
    "print(a.dtype)\n",
    "\n",
    "b=np.array([2,3,4],dtype=np.int64)\n",
    "print(b.dtype)\n",
    "\n",
    "c=np.identity(4)\n",
    "print(c.dtype)"
   ]
  },
  {
   "cell_type": "markdown",
   "id": "46a3ff53",
   "metadata": {},
   "source": [
    "# Changing datatype"
   ]
  },
  {
   "cell_type": "code",
   "execution_count": 64,
   "id": "359ea393",
   "metadata": {},
   "outputs": [
    {
     "name": "stdout",
     "output_type": "stream",
     "text": [
      "[[1 0 0 0]\n",
      " [0 1 0 0]\n",
      " [0 0 1 0]\n",
      " [0 0 0 1]]\n",
      "int32\n"
     ]
    }
   ],
   "source": [
    "#astype for reduce storage in memory like we need age so we dint need long int\n",
    "\n",
    "c=np.identity(4)\n",
    "print(c.astype(np.int32))\n",
    "\n",
    "d=np.identity(4)\n",
    "x=c.astype(np.int32)\n",
    "print(x.dtype)"
   ]
  },
  {
   "cell_type": "markdown",
   "id": "f3dc6735",
   "metadata": {},
   "source": [
    "# Array opration"
   ]
  },
  {
   "cell_type": "markdown",
   "id": "736b2f58",
   "metadata": {},
   "source": [
    "Scalar opration:- all arthmatic opration we can do in this\n",
    "relational:- we can do all realational opration in array\n",
    "vector opration: whe we apply any arthmatic opration with 2 or more arrays\n"
   ]
  },
  {
   "cell_type": "code",
   "execution_count": 68,
   "id": "31911738",
   "metadata": {},
   "outputs": [
    {
     "name": "stdout",
     "output_type": "stream",
     "text": [
      "[[ 0  2  4  6]\n",
      " [ 8 10 12 14]\n",
      " [16 18 20 22]]\n",
      "\n",
      "[[  0   1   4   9]\n",
      " [ 16  25  36  49]\n",
      " [ 64  81 100 121]]\n",
      "\n",
      "[[ 2  3  4  5]\n",
      " [ 6  7  8  9]\n",
      " [10 11 12 13]]\n",
      "\n",
      "[[-2 -1  0  1]\n",
      " [ 2  3  4  5]\n",
      " [ 6  7  8  9]]\n",
      "\n",
      "[[0 0 1 1]\n",
      " [2 2 3 3]\n",
      " [4 4 5 5]]\n",
      "\n"
     ]
    }
   ],
   "source": [
    "# scalar  opration\n",
    "\n",
    "a=np.arange(12).reshape(3,4)\n",
    "print(a*2)\n",
    "print()\n",
    "print(a**2)\n",
    "print()\n",
    "print(a+2)\n",
    "print()\n",
    "print(a-2)\n",
    "print()\n",
    "print(a//2)\n",
    "print()"
   ]
  },
  {
   "cell_type": "code",
   "execution_count": 3,
   "id": "86285833",
   "metadata": {},
   "outputs": [
    {
     "name": "stdout",
     "output_type": "stream",
     "text": [
      "[[ 51  52  53  54  55]\n",
      " [ 56  57  58  59  60]\n",
      " [ 61  62  63  64  65]\n",
      " [ 66  67  68  69  70]\n",
      " [ 71  72  73  74  75]\n",
      " [ 76  77  78  79  80]\n",
      " [ 81  82  83  84  85]\n",
      " [ 86  87  88  89  90]\n",
      " [ 91  92  93  94  95]\n",
      " [ 96  97  98  99 100]]\n",
      "\n",
      "[[False False False False False]\n",
      " [False False False False False]\n",
      " [ True  True  True  True  True]\n",
      " [ True  True  True  True  True]\n",
      " [ True  True  True  True  True]\n",
      " [ True  True  True  True  True]\n",
      " [ True  True  True  True  True]\n",
      " [ True  True  True  True  True]\n",
      " [ True  True  True  True  True]\n",
      " [ True  True  True  True  True]]\n",
      "[ 61  62  63  64  65  66  67  68  69  70  71  72  73  74  75  76  77  78\n",
      "  79  80  81  82  83  84  85  86  87  88  89  90  91  92  93  94  95  96\n",
      "  97  98  99 100]\n"
     ]
    }
   ],
   "source": [
    "# realtional oprations\n",
    "import numpy as np\n",
    "\n",
    "a=np.arange(51,101).reshape(10,5)\n",
    "print(a)\n",
    "print()\n",
    "x=a>60\n",
    "print(x)\n",
    "print(a[a>60])"
   ]
  },
  {
   "cell_type": "code",
   "execution_count": 79,
   "id": "4a762626",
   "metadata": {},
   "outputs": [
    {
     "name": "stdout",
     "output_type": "stream",
     "text": [
      "[[11 12 13 14 15 16 17 18 19 20]\n",
      " [21 22 23 24 25 26 27 28 29 30]]\n",
      "\n",
      "[[31 32 33 34 35 36 37 38 39 40]\n",
      " [41 42 43 44 45 46 47 48 49 50]]\n",
      "\n",
      "[[42 44 46 48 50 52 54 56 58 60]\n",
      " [62 64 66 68 70 72 74 76 78 80]]\n",
      "\n",
      "[[-20 -20 -20 -20 -20 -20 -20 -20 -20 -20]\n",
      " [-20 -20 -20 -20 -20 -20 -20 -20 -20 -20]]\n",
      "\n",
      "[[ 341  384  429  476  525  576  629  684  741  800]\n",
      " [ 861  924  989 1056 1125 1196 1269 1344 1421 1500]]\n",
      "\n"
     ]
    }
   ],
   "source": [
    "# vector opration\n",
    "\n",
    "a=np.arange(11,31).reshape(2,10)\n",
    "print(a)\n",
    "print()\n",
    "b=np.arange(31,51).reshape(2,10)\n",
    "print(b)\n",
    "print()\n",
    "\n",
    "print(a + b)\n",
    "print()\n",
    "print(a - b)\n",
    "print()\n",
    "print(a * b)\n",
    "print()"
   ]
  },
  {
   "cell_type": "markdown",
   "id": "b2b63303",
   "metadata": {},
   "source": [
    "# array function"
   ]
  },
  {
   "cell_type": "markdown",
   "id": "b524be25",
   "metadata": {},
   "source": []
  },
  {
   "cell_type": "code",
   "execution_count": 86,
   "id": "40e31b4d",
   "metadata": {},
   "outputs": [
    {
     "name": "stdout",
     "output_type": "stream",
     "text": [
      "[[96. 43. 27.]\n",
      " [73. 51. 23.]\n",
      " [39. 94. 78.]]\n"
     ]
    }
   ],
   "source": [
    "a=np.random.random((3,3))\n",
    "a=np.round(a*100)\n",
    "print(a)"
   ]
  },
  {
   "cell_type": "code",
   "execution_count": 93,
   "id": "d5bc68f5",
   "metadata": {},
   "outputs": [
    {
     "name": "stdout",
     "output_type": "stream",
     "text": [
      "96.0\n",
      "[96. 73. 94.]\n",
      "[96. 94. 78.]\n"
     ]
    }
   ],
   "source": [
    "# max\n",
    "# max in every row or column\n",
    "# 0 col and 1 row\n",
    "print(np.max(a))\n",
    "print(np.max(a,axis=1))\n",
    "print(np.max(a,axis=0))"
   ]
  },
  {
   "cell_type": "code",
   "execution_count": 92,
   "id": "c8369c40",
   "metadata": {},
   "outputs": [
    {
     "name": "stdout",
     "output_type": "stream",
     "text": [
      "23.0\n",
      "[27. 23. 39.]\n"
     ]
    }
   ],
   "source": [
    "# min\n",
    "print(np.min(a))\n",
    "print(np.min(a,axis=1))"
   ]
  },
  {
   "cell_type": "code",
   "execution_count": 94,
   "id": "ba872f17",
   "metadata": {},
   "outputs": [
    {
     "name": "stdout",
     "output_type": "stream",
     "text": [
      "524.0\n",
      "[166. 147. 211.]\n"
     ]
    }
   ],
   "source": [
    "# sum\n",
    "\n",
    "print(np.sum(a))\n",
    "print(np.sum(a,axis=1))"
   ]
  },
  {
   "cell_type": "code",
   "execution_count": 90,
   "id": "f1eaa29f",
   "metadata": {},
   "outputs": [
    {
     "name": "stdout",
     "output_type": "stream",
     "text": [
      "2729049344641152.0\n"
     ]
    }
   ],
   "source": [
    "# product\n",
    "\n",
    "print(np.prod(a))"
   ]
  },
  {
   "cell_type": "code",
   "execution_count": 98,
   "id": "0e27bc0e",
   "metadata": {},
   "outputs": [
    {
     "name": "stdout",
     "output_type": "stream",
     "text": [
      "58.22222222222222\n",
      "51.0\n",
      "[43. 51. 78.]\n"
     ]
    }
   ],
   "source": [
    "# mean,meadian,std\n",
    "\n",
    "print(np.mean(a))\n",
    "print(np.median(a))\n",
    "print(np.median(a,axis=1))"
   ]
  },
  {
   "cell_type": "code",
   "execution_count": 99,
   "id": "90d24d26",
   "metadata": {},
   "outputs": [
    {
     "name": "stdout",
     "output_type": "stream",
     "text": [
      "[[-0.18043045  0.5551133  -0.29213881]\n",
      " [-0.73619272  0.7421542  -0.53283302]\n",
      " [ 0.26664293  0.96945937 -0.85780309]]\n"
     ]
    }
   ],
   "source": [
    "# trignometry\n",
    "\n",
    "print(np.cos(a))"
   ]
  },
  {
   "cell_type": "markdown",
   "id": "53bb7f61",
   "metadata": {},
   "source": [
    "dot product\n",
    "if (3,4) and other (4,3) \n",
    "dot product is possible when one array col and second array row is eqal and array as ouput is one array row * second array col\n",
    "\n",
    "multiply method: one whole row multiply with second whole col"
   ]
  },
  {
   "cell_type": "code",
   "execution_count": 104,
   "id": "b3b25689",
   "metadata": {},
   "outputs": [
    {
     "name": "stdout",
     "output_type": "stream",
     "text": [
      "[[10 11 12 13]\n",
      " [14 15 16 17]\n",
      " [18 19 20 21]]\n",
      "[[20 21 22]\n",
      " [23 24 25]\n",
      " [26 27 28]\n",
      " [29 30 31]]\n",
      "\n",
      "[[1142 1188 1234]\n",
      " [1534 1596 1658]\n",
      " [1926 2004 2082]]\n"
     ]
    }
   ],
   "source": [
    "a=np.arange(10,22).reshape(3,4)\n",
    "b=np.arange(20,32).reshape(4,3)\n",
    "print(a)\n",
    "print(b)\n",
    "print()\n",
    "print(np.dot(a,b))"
   ]
  },
  {
   "cell_type": "code",
   "execution_count": 107,
   "id": "917f52a2",
   "metadata": {},
   "outputs": [
    {
     "name": "stdout",
     "output_type": "stream",
     "text": [
      "[[2.30258509 2.39789527 2.48490665 2.56494936]\n",
      " [2.63905733 2.7080502  2.77258872 2.83321334]\n",
      " [2.89037176 2.94443898 2.99573227 3.04452244]]\n",
      "\n",
      "[[2.20264658e+04 5.98741417e+04 1.62754791e+05 4.42413392e+05]\n",
      " [1.20260428e+06 3.26901737e+06 8.88611052e+06 2.41549528e+07]\n",
      " [6.56599691e+07 1.78482301e+08 4.85165195e+08 1.31881573e+09]]\n"
     ]
    }
   ],
   "source": [
    "# log and exponent\n",
    "\n",
    "print(np.log(a))\n",
    "print()\n",
    "print(np.exp(a))"
   ]
  },
  {
   "cell_type": "code",
   "execution_count": 2,
   "id": "b2e8d760",
   "metadata": {},
   "outputs": [
    {
     "name": "stdout",
     "output_type": "stream",
     "text": [
      "[[ 2  3  4  5  6  7  8  9 10 11 12 13]\n",
      " [14 15 16 17 18 19 20 21 22 23 24 25]\n",
      " [26 27 28 29 30 31 32 33 34 35 36 37]\n",
      " [38 39 40 41 42 43 44 45 46 47 48 49]]\n",
      "\n",
      "[[ 1.2  1.8  2.4  3.   3.6  4.2  4.8  5.4  6.   6.6  7.2  7.8]\n",
      " [ 8.4  9.   9.6 10.2 10.8 11.4 12.  12.6 13.2 13.8 14.4 15. ]\n",
      " [15.6 16.2 16.8 17.4 18.  18.6 19.2 19.8 20.4 21.  21.6 22.2]\n",
      " [22.8 23.4 24.  24.6 25.2 25.8 26.4 27.  27.6 28.2 28.8 29.4]]\n",
      "\n",
      "[[ 1.  2.  2.  3.  4.  4.  5.  5.  6.  7.  7.  8.]\n",
      " [ 8.  9. 10. 10. 11. 11. 12. 13. 13. 14. 14. 15.]\n",
      " [16. 16. 17. 17. 18. 19. 19. 20. 20. 21. 22. 22.]\n",
      " [23. 23. 24. 25. 25. 26. 26. 27. 28. 28. 29. 29.]]\n",
      "\n",
      "[[ 1.  1.  2.  3.  3.  4.  4.  5.  6.  6.  7.  7.]\n",
      " [ 8.  9.  9. 10. 10. 11. 12. 12. 13. 13. 14. 15.]\n",
      " [15. 16. 16. 17. 18. 18. 19. 19. 20. 21. 21. 22.]\n",
      " [22. 23. 24. 24. 25. 25. 26. 27. 27. 28. 28. 29.]]\n",
      "\n",
      "[[ 2.  2.  3.  3.  4.  5.  5.  6.  6.  7.  8.  8.]\n",
      " [ 9.  9. 10. 11. 11. 12. 12. 13. 14. 14. 15. 15.]\n",
      " [16. 17. 17. 18. 18. 19. 20. 20. 21. 21. 22. 23.]\n",
      " [23. 24. 24. 25. 26. 26. 27. 27. 28. 29. 29. 30.]]\n"
     ]
    }
   ],
   "source": [
    "import numpy as np\n",
    "# round,floor,ceil\n",
    "\n",
    "a=np.arange(2,50).reshape(4,12)\n",
    "print(a)\n",
    "print()\n",
    "a=a*0.6\n",
    "print(a)\n",
    "print()\n",
    "print(np.round(a))\n",
    "print()\n",
    "print(np.floor(a))\n",
    "print()\n",
    "print(np.ceil(a))\n"
   ]
  },
  {
   "cell_type": "markdown",
   "id": "33738c91",
   "metadata": {},
   "source": [
    "# indexing and slicing"
   ]
  },
  {
   "cell_type": "code",
   "execution_count": 2,
   "id": "ac55936d",
   "metadata": {
    "scrolled": true
   },
   "outputs": [
    {
     "name": "stdout",
     "output_type": "stream",
     "text": [
      "[ 1  2  3  4  5  6  7  8  9 10]\n",
      "10\n",
      "\n",
      "[[2 3 4 5]\n",
      " [6 7 8 9]]\n",
      "\n",
      "8\n",
      "\n",
      "[[[ 1  2  3  4  5]\n",
      "  [ 6  7  8  9 10]\n",
      "  [11 12 13 14 15]\n",
      "  [16 17 18 19 20]\n",
      "  [21 22 23 24 25]]\n",
      "\n",
      " [[26 27 28 29 30]\n",
      "  [31 32 33 34 35]\n",
      "  [36 37 38 39 40]\n",
      "  [41 42 43 44 45]\n",
      "  [46 47 48 49 50]]]\n",
      "\n",
      "37\n",
      "slicing:-   [3 4 5]\n",
      "2D slicing:-   [6 7 8]\n",
      "2D slicing:-   [4 8]\n",
      "2D slicing:- [[7 8]]\n"
     ]
    }
   ],
   "source": [
    "import numpy as np\n",
    "\n",
    "a=np.arange(1,11)\n",
    "print(a)\n",
    "print(a[-1])\n",
    "print()\n",
    "b=np.arange(2,10).reshape(2,4)\n",
    "print(b)\n",
    "print()\n",
    "print(b[1,2])\n",
    "print()\n",
    "c=np.arange(1,51).reshape(2,5,5)\n",
    "print(c)\n",
    "print()\n",
    "print(c[1,2,1])   # in this brafor we take which 2d array in then all rule like 2d array\n",
    "\n",
    "print(\"slicing:-  \",a[2:5])\n",
    "print(\"2D slicing:-  \",b[1,0:3])# first row second col\n",
    "print(\"2D slicing:-  \",b[:,2])\n",
    "\n",
    "print(\"2D slicing:-\",b[1:,1:3])\n"
   ]
  },
  {
   "cell_type": "code",
   "execution_count": 13,
   "id": "60a1f9ae",
   "metadata": {},
   "outputs": [
    {
     "name": "stdout",
     "output_type": "stream",
     "text": [
      "[[ 1  2  3  4]\n",
      " [ 5  6  7  8]\n",
      " [ 9 10 11 12]]\n",
      "\n",
      "slicing:- [[ 1  4]\n",
      " [ 9 12]]\n",
      "\n",
      "slice:- [[ 2  4]\n",
      " [10 12]]\n",
      "\n",
      "slice:- [[5 6]]\n",
      "\n",
      "slice:- [[2 3 4]\n",
      " [6 7 8]]\n"
     ]
    }
   ],
   "source": [
    "a=np.arange(1,13).reshape(3,4)\n",
    "print(a)\n",
    "print()\n",
    "print(\"slicing:-\",a[::2,::3])\n",
    "print()\n",
    "print(\"slice:-\",a[::2,1::2])\n",
    "print()\n",
    "print(\"slice:-\",a[1:2,0:2])\n",
    "print()\n",
    "print(\"slice:-\",a[:2,1:])"
   ]
  },
  {
   "cell_type": "code",
   "execution_count": 37,
   "id": "5a589e86",
   "metadata": {},
   "outputs": [
    {
     "name": "stdout",
     "output_type": "stream",
     "text": [
      "[[[ 0  1  2]\n",
      "  [ 3  4  5]\n",
      "  [ 6  7  8]]\n",
      "\n",
      " [[ 9 10 11]\n",
      "  [12 13 14]\n",
      "  [15 16 17]]\n",
      "\n",
      " [[18 19 20]\n",
      "  [21 22 23]\n",
      "  [24 25 26]]]\n",
      "\n",
      "slice:- [[ 9 10 11]\n",
      " [12 13 14]\n",
      " [15 16 17]]\n",
      "\n",
      "slice:- [[[ 0  1  2]\n",
      "  [ 3  4  5]\n",
      "  [ 6  7  8]]\n",
      "\n",
      " [[18 19 20]\n",
      "  [21 22 23]\n",
      "  [24 25 26]]]\n",
      "\n",
      "slice:- [[3 4 5]]\n",
      "\n",
      "slice:- [10 13 16]\n",
      "\n",
      "slice:- [[22 23]\n",
      " [25 26]]\n",
      "\n",
      "slice:- [[ 0  2]\n",
      " [18 20]]\n",
      "\n"
     ]
    }
   ],
   "source": [
    "a=np.arange(27).reshape(3,3,3)\n",
    "print(a)\n",
    "print()\n",
    "\n",
    "print(\"slice:-\",a[1])\n",
    "print()\n",
    "print(\"slice:-\",a[::2])\n",
    "print()\n",
    "print(\"slice:-\",a[0,1:2])\n",
    "print()\n",
    "print(\"slice:-\",a[1,:,1])\n",
    "print()\n",
    "print(\"slice:-\",a[2,1:,1:])\n",
    "print()\n",
    "print(\"slice:-\",a[::2,0,::2])\n",
    "print()\n",
    "# print(\"slice:-\",a[1])\n",
    "# print()\n",
    "# print(\"slice:-\",a[1])\n",
    "# print()"
   ]
  },
  {
   "cell_type": "markdown",
   "id": "c265c2bf",
   "metadata": {},
   "source": [
    "# iterating"
   ]
  },
  {
   "cell_type": "code",
   "execution_count": 43,
   "id": "d14e1813",
   "metadata": {},
   "outputs": [
    {
     "name": "stdout",
     "output_type": "stream",
     "text": [
      "[[0 1 2 3]\n",
      " [4 5 6 7]]\n",
      "0\n",
      "1\n",
      "2\n",
      "3\n",
      "4\n",
      "5\n",
      "6\n",
      "7\n"
     ]
    }
   ],
   "source": [
    "a=np.arange(0,8).reshape(2,4)\n",
    "print(a)\n",
    "\n",
    "for i in np.nditer(a):\n",
    "    print(i)"
   ]
  },
  {
   "cell_type": "code",
   "execution_count": 47,
   "id": "3bb8a49b",
   "metadata": {},
   "outputs": [
    {
     "name": "stdout",
     "output_type": "stream",
     "text": [
      "[[[ 0  1  2]\n",
      "  [ 3  4  5]]\n",
      "\n",
      " [[ 6  7  8]\n",
      "  [ 9 10 11]]]\n",
      "0\n",
      "1\n",
      "2\n",
      "3\n",
      "4\n",
      "5\n",
      "6\n",
      "7\n",
      "8\n",
      "9\n",
      "10\n",
      "11\n"
     ]
    }
   ],
   "source": [
    "a=np.arange(0,12).reshape(2,2,3)\n",
    "print(a)\n",
    "for i in np.nditer(a):\n",
    "    print(i)"
   ]
  },
  {
   "cell_type": "markdown",
   "id": "5f3c705f",
   "metadata": {},
   "source": [
    "# reshaping"
   ]
  },
  {
   "cell_type": "markdown",
   "id": "362c3c9b",
   "metadata": {},
   "source": [
    "all methods in array they are not change origunal array they just make new form of array\n",
    "\n",
    "1.reshape\n",
    "2.transpose:- convert number of row into number of col.exaple if row =3 col=4 convert in row=4,col=3\n",
    "3.ravel:- convert into 1D array"
   ]
  },
  {
   "cell_type": "code",
   "execution_count": 57,
   "id": "f0120740",
   "metadata": {},
   "outputs": [
    {
     "name": "stdout",
     "output_type": "stream",
     "text": [
      "[[ 0  1  2  3]\n",
      " [ 4  5  6  7]\n",
      " [ 8  9 10 11]]\n",
      "\n",
      "[[ 0  4  8]\n",
      " [ 1  5  9]\n",
      " [ 2  6 10]\n",
      " [ 3  7 11]]\n",
      "\n",
      "[[ 0  4  8]\n",
      " [ 1  5  9]\n",
      " [ 2  6 10]\n",
      " [ 3  7 11]]\n",
      "\n",
      "[ 0  1  2  3  4  5  6  7  8  9 10 11]\n"
     ]
    }
   ],
   "source": [
    "a=np.arange(0,12).reshape(3,4)\n",
    "print(a)\n",
    "print()\n",
    "print(a.transpose())\n",
    "print()\n",
    "print(a.T)# result is same but syntex is easy\n",
    "print()\n",
    "print(a.ravel())"
   ]
  },
  {
   "cell_type": "markdown",
   "id": "4be895a3",
   "metadata": {},
   "source": [
    "# stacking"
   ]
  },
  {
   "cell_type": "markdown",
   "id": "763cab73",
   "metadata": {},
   "source": [
    "add two more array\n",
    "1.horizontal:-add in horizonal row is same col will change both array 1array col + 2array col\n",
    "2.vertical:-col will same but row change this add new array below 1 array "
   ]
  },
  {
   "cell_type": "code",
   "execution_count": 3,
   "id": "72a51dca",
   "metadata": {},
   "outputs": [
    {
     "name": "stdout",
     "output_type": "stream",
     "text": [
      "[[ 0  1  2  3]\n",
      " [ 4  5  6  7]\n",
      " [ 8  9 10 11]]\n",
      "\n",
      "[[12 13 14 15]\n",
      " [16 17 18 19]\n",
      " [20 21 22 23]]\n",
      "\n",
      "[[ 0  1  2  3 12 13 14 15]\n",
      " [ 4  5  6  7 16 17 18 19]\n",
      " [ 8  9 10 11 20 21 22 23]]\n",
      "\n",
      "[[ 0  1  2  3]\n",
      " [ 4  5  6  7]\n",
      " [ 8  9 10 11]\n",
      " [12 13 14 15]\n",
      " [16 17 18 19]\n",
      " [20 21 22 23]]\n",
      "\n",
      "[[[ 0 12]\n",
      "  [ 1 13]\n",
      "  [ 2 14]\n",
      "  [ 3 15]]\n",
      "\n",
      " [[ 4 16]\n",
      "  [ 5 17]\n",
      "  [ 6 18]\n",
      "  [ 7 19]]\n",
      "\n",
      " [[ 8 20]\n",
      "  [ 9 21]\n",
      "  [10 22]\n",
      "  [11 23]]]\n"
     ]
    }
   ],
   "source": [
    "a=np.arange(0,12).reshape(3,4)\n",
    "b=np.arange(12,24).reshape(3,4)\n",
    "print(a)\n",
    "print()\n",
    "print(b)\n",
    "print()\n",
    "print(np.hstack((a,b)))\n",
    "print()\n",
    "print(np.vstack((a,b)))\n",
    "print()\n",
    "print(np.dstack((a,b)))"
   ]
  },
  {
   "cell_type": "code",
   "execution_count": 16,
   "id": "e20a021d",
   "metadata": {},
   "outputs": [
    {
     "name": "stdout",
     "output_type": "stream",
     "text": [
      "[[[1 4]\n",
      "  [2 5]\n",
      "  [3 6]]]\n"
     ]
    }
   ],
   "source": [
    "import numpy as np\n",
    "\n",
    "arr1 = np.array([1, 2, 3])\n",
    "\n",
    "arr2 = np.array([4, 5, 6])\n",
    "\n",
    "arr = np.dstack((arr1, arr2))\n",
    "\n",
    "print(arr)"
   ]
  },
  {
   "cell_type": "code",
   "execution_count": 60,
   "id": "76e22425",
   "metadata": {},
   "outputs": [
    {
     "name": "stdout",
     "output_type": "stream",
     "text": [
      "[[ 0  1  2  3]\n",
      " [ 4  5  6  7]\n",
      " [ 8  9 10 11]]\n",
      "\n",
      "[[12 13 14 15]\n",
      " [16 17 18 19]\n",
      " [20 21 22 23]]\n",
      "\n",
      "[[ 0  1  2  3]\n",
      " [ 4  5  6  7]\n",
      " [ 8  9 10 11]\n",
      " [12 13 14 15]\n",
      " [16 17 18 19]\n",
      " [20 21 22 23]]\n"
     ]
    }
   ],
   "source": [
    "a=np.arange(0,12).reshape(3,4)\n",
    "b=np.arange(12,24).reshape(3,4)\n",
    "print(a)\n",
    "print()\n",
    "print(b)\n",
    "print()\n",
    "print(np.vstack((a,b)))"
   ]
  },
  {
   "cell_type": "markdown",
   "id": "eb2bebed",
   "metadata": {},
   "source": [
    "# spliting"
   ]
  },
  {
   "cell_type": "markdown",
   "id": "6da6bbf6",
   "metadata": {},
   "source": [
    "just opposit of stacking"
   ]
  },
  {
   "cell_type": "code",
   "execution_count": 69,
   "id": "99b3701c",
   "metadata": {},
   "outputs": [
    {
     "name": "stdout",
     "output_type": "stream",
     "text": [
      "[[ 0  1  2  3]\n",
      " [ 4  5  6  7]\n",
      " [ 8  9 10 11]\n",
      " [12 13 14 15]]\n",
      "\n",
      "[array([[ 0,  1],\n",
      "       [ 4,  5],\n",
      "       [ 8,  9],\n",
      "       [12, 13]]), array([[ 2,  3],\n",
      "       [ 6,  7],\n",
      "       [10, 11],\n",
      "       [14, 15]])]\n",
      "\n",
      "\n",
      "[array([[0, 1, 2, 3],\n",
      "       [4, 5, 6, 7]]), array([[ 8,  9, 10, 11],\n",
      "       [12, 13, 14, 15]])]\n"
     ]
    }
   ],
   "source": [
    "import numpy as np\n",
    "\n",
    "a=np.arange(0,16).reshape(4,4)\n",
    "print(a)\n",
    "print()\n",
    "print(np.hsplit(a,2))\n",
    "print()\n",
    "print()\n",
    "\n",
    "print(np.vsplit(a,2))"
   ]
  },
  {
   "cell_type": "code",
   "execution_count": 17,
   "id": "a7e99a8b",
   "metadata": {},
   "outputs": [
    {
     "name": "stdout",
     "output_type": "stream",
     "text": [
      "[1 2]\n",
      "[3 4]\n",
      "[5 6]\n"
     ]
    }
   ],
   "source": [
    "import numpy as np\n",
    "\n",
    "arr = np.array([1, 2, 3, 4, 5, 6])\n",
    "\n",
    "newarr = np.array_split(arr, 3)\n",
    "\n",
    "print(newarr[0])\n",
    "print(newarr[1])\n",
    "print(newarr[2])"
   ]
  },
  {
   "cell_type": "markdown",
   "id": "5341f5d3",
   "metadata": {},
   "source": [
    "# Advanced NumPy"
   ]
  },
  {
   "cell_type": "markdown",
   "id": "e4014c8f",
   "metadata": {},
   "source": [
    "1.fancy indexing:-when we have ti pattern to print we use fancy indeing in this we provide a list for what ever we want to print\n",
    "according our needs\n",
    "\n",
    "2:Boolean indexing:-some specific idexing even numbers,divisble by 5 etc like means some speacial filterd number we can print with boolean indexing\n",
    "random.randiant :- this for some specific number in range in randome module function"
   ]
  },
  {
   "cell_type": "code",
   "execution_count": 13,
   "id": "8e393990",
   "metadata": {},
   "outputs": [
    {
     "name": "stdout",
     "output_type": "stream",
     "text": [
      "[[ 0  1  2  3  4  5]\n",
      " [ 6  7  8  9 10 11]\n",
      " [12 13 14 15 16 17]\n",
      " [18 19 20 21 22 23]]\n",
      "\n",
      "[[ 0  1  2  3  4  5]\n",
      " [12 13 14 15 16 17]\n",
      " [18 19 20 21 22 23]]\n",
      "\n",
      "[[ 0  2  4  5]\n",
      " [ 6  8 10 11]\n",
      " [12 14 16 17]\n",
      " [18 20 22 23]]\n",
      "\n",
      "[[ 2  4]\n",
      " [14 16]\n",
      " [20 22]]\n"
     ]
    }
   ],
   "source": [
    "import numpy as np\n",
    "# fancy indexing\n",
    "\n",
    "a=np.arange(0,24).reshape(4,6)\n",
    "print(a)\n",
    "print()\n",
    "print(a[[0,2,3]])# we provide list in array for our convienince\n",
    "print()\n",
    "print(a[:,[0,2,4,5]])\n",
    "print()\n",
    "print(a[[0,2,3],2::2])"
   ]
  },
  {
   "cell_type": "code",
   "execution_count": 26,
   "id": "ddabb274",
   "metadata": {},
   "outputs": [
    {
     "name": "stdout",
     "output_type": "stream",
     "text": [
      "[[ 8 27  8 72 97 96]\n",
      " [ 5 25 24 61 13 99]\n",
      " [11 45 74 81 95 85]\n",
      " [16 83 20 87 48 11]]\n",
      "\n",
      "[[ True False  True  True False  True]\n",
      " [False False  True False False False]\n",
      " [False False  True False False False]\n",
      " [ True False  True False  True False]]\n",
      "\n",
      "[ 8  8 72 96 24 74 16 20 48]\n",
      "\n",
      "[72 96 74]\n",
      "\n",
      "[ 8 27  8 72 97 96  5 25 24 61 13 99 11 45 74 81 95 85 16 83 20 87 48 11]\n"
     ]
    }
   ],
   "source": [
    "a=np.random.randint(1,100,24).reshape(4,6)\n",
    "# boolean indexing\n",
    "print(a)\n",
    "print()\n",
    "print(a%2==0)\n",
    "print()\n",
    "print(a[a%2==0])# this is mask\n",
    "print()\n",
    "print(a[(a>50) & (a%2==0)])\n",
    "print()\n",
    "print(a[~(a%7==0)])"
   ]
  },
  {
   "cell_type": "markdown",
   "id": "43ab45c3",
   "metadata": {},
   "source": [
    "# Broadcasting"
   ]
  },
  {
   "cell_type": "markdown",
   "id": "6f74a622",
   "metadata": {},
   "source": [
    "NumPy to work with arrays of different shapes when performing arithmetic operations. It allows arrays of different shapes to be combined in a way that makes sense for the operation being performed, without explicitly creating copies of the data.\n",
    "\n",
    "add fiffrent dimention array but some specifuc rule"
   ]
  },
  {
   "cell_type": "code",
   "execution_count": 28,
   "id": "4d6415bd",
   "metadata": {},
   "outputs": [
    {
     "name": "stdout",
     "output_type": "stream",
     "text": [
      "[0 1 2 3]\n",
      "\n",
      "[[ 0  1  2  3]\n",
      " [ 4  5  6  7]\n",
      " [ 8  9 10 11]]\n",
      "\n",
      "[[ 0  2  4  6]\n",
      " [ 4  6  8 10]\n",
      " [ 8 10 12 14]]\n"
     ]
    }
   ],
   "source": [
    "a=np.arange(4)\n",
    "b=np.arange(0,12).reshape(3,4)\n",
    "print(a)\n",
    "print()\n",
    "print(b)\n",
    "print()\n",
    "print(a+b)\n"
   ]
  },
  {
   "cell_type": "markdown",
   "id": "38e1bbda",
   "metadata": {},
   "source": [
    "# W0rking with mathmatical function"
   ]
  },
  {
   "cell_type": "code",
   "execution_count": 29,
   "id": "06f1b829",
   "metadata": {},
   "outputs": [
    {
     "name": "stdout",
     "output_type": "stream",
     "text": [
      "[0.5        0.73105858 0.88079708 0.95257413 0.98201379 0.99330715\n",
      " 0.99752738 0.99908895 0.99966465 0.99987661 0.9999546  0.9999833\n",
      " 0.99999386 0.99999774 0.99999917 0.99999969 0.99999989 0.99999996\n",
      " 0.99999998 0.99999999 1.         1.         1.         1.\n",
      " 1.         1.         1.         1.         1.         1.\n",
      " 1.         1.         1.         1.         1.         1.\n",
      " 1.         1.         1.         1.         1.         1.\n",
      " 1.         1.         1.         1.         1.         1.\n",
      " 1.         1.         1.         1.         1.         1.\n",
      " 1.         1.         1.         1.         1.         1.\n",
      " 1.         1.         1.         1.         1.         1.\n",
      " 1.         1.         1.         1.         1.         1.\n",
      " 1.         1.         1.         1.         1.         1.\n",
      " 1.         1.         1.         1.         1.         1.\n",
      " 1.         1.         1.         1.         1.         1.\n",
      " 1.         1.         1.         1.         1.         1.\n",
      " 1.         1.         1.         1.        ]\n"
     ]
    }
   ],
   "source": [
    "# sigmoid\n",
    "def sigmoid(array):\n",
    "    return 1/(1 + np.exp(-(array)))\n",
    "\n",
    "a=np.arange(100)\n",
    "print(sigmoid(a))"
   ]
  },
  {
   "cell_type": "code",
   "execution_count": 32,
   "id": "1babdcc6",
   "metadata": {},
   "outputs": [
    {
     "name": "stdout",
     "output_type": "stream",
     "text": [
      "2020.08\n"
     ]
    }
   ],
   "source": [
    "# mean sqared error\n",
    "\n",
    "def mean_squared(actual,predict):\n",
    "    return np.mean((actual-predict)**2)\n",
    "\n",
    "actual=np.random.randint(1,100,25)\n",
    "predict=np.random.randint(1,100,25)\n",
    "\n",
    "print(mean_squared(actual,predict))"
   ]
  },
  {
   "cell_type": "code",
   "execution_count": null,
   "id": "a73aa986",
   "metadata": {},
   "outputs": [],
   "source": [
    "# categorical cross entropy"
   ]
  },
  {
   "cell_type": "markdown",
   "id": "0b667689",
   "metadata": {},
   "source": [
    "# Working with missing number"
   ]
  },
  {
   "cell_type": "markdown",
   "id": "043d96de",
   "metadata": {},
   "source": [
    "we use boolean method for find missing number"
   ]
  },
  {
   "cell_type": "code",
   "execution_count": 42,
   "id": "bb07e36b",
   "metadata": {},
   "outputs": [
    {
     "name": "stdout",
     "output_type": "stream",
     "text": [
      "[ 1.  2.  3.  4. nan  6.  7.]\n",
      "[False False False False  True False False]\n",
      "[nan]\n",
      "\n",
      "[1. 2. 3. 4. 6. 7.]\n"
     ]
    }
   ],
   "source": [
    "a=np.array([1,2,3,4,np.nan,6,7])\n",
    "print(a)\n",
    "print(np.isnan(a))\n",
    "print(a[np.isnan(a)])\n",
    "print()\n",
    "print(a[~np.isnan(a)])"
   ]
  },
  {
   "cell_type": "markdown",
   "id": "642b0b10",
   "metadata": {},
   "source": [
    "# Plotting Graphs"
   ]
  },
  {
   "cell_type": "markdown",
   "id": "2f4488a8",
   "metadata": {},
   "source": []
  },
  {
   "cell_type": "code",
   "execution_count": 44,
   "id": "0c3edfc1",
   "metadata": {},
   "outputs": [
    {
     "name": "stdout",
     "output_type": "stream",
     "text": [
      "Collecting matplotlib\n",
      "  Downloading matplotlib-3.8.3-cp312-cp312-win_amd64.whl.metadata (5.9 kB)\n",
      "Collecting contourpy>=1.0.1 (from matplotlib)\n",
      "  Downloading contourpy-1.2.0-cp312-cp312-win_amd64.whl.metadata (5.8 kB)\n",
      "Collecting cycler>=0.10 (from matplotlib)\n",
      "  Downloading cycler-0.12.1-py3-none-any.whl.metadata (3.8 kB)\n",
      "Collecting fonttools>=4.22.0 (from matplotlib)\n",
      "  Downloading fonttools-4.49.0-cp312-cp312-win_amd64.whl.metadata (162 kB)\n",
      "     ---------------------------------------- 0.0/162.3 kB ? eta -:--:--\n",
      "     ------- ----------------------------- 30.7/162.3 kB 660.6 kB/s eta 0:00:01\n",
      "     -------------------------------------- 162.3/162.3 kB 1.9 MB/s eta 0:00:00\n",
      "Collecting kiwisolver>=1.3.1 (from matplotlib)\n",
      "  Downloading kiwisolver-1.4.5-cp312-cp312-win_amd64.whl.metadata (6.5 kB)\n",
      "Requirement already satisfied: numpy<2,>=1.21 in c:\\users\\navgurukul\\anaconda3\\envs\\myasha\\lib\\site-packages (from matplotlib) (1.26.4)\n",
      "Requirement already satisfied: packaging>=20.0 in c:\\users\\navgurukul\\anaconda3\\envs\\myasha\\lib\\site-packages (from matplotlib) (23.2)\n",
      "Collecting pillow>=8 (from matplotlib)\n",
      "  Downloading pillow-10.2.0-cp312-cp312-win_amd64.whl.metadata (9.9 kB)\n",
      "Collecting pyparsing>=2.3.1 (from matplotlib)\n",
      "  Downloading pyparsing-3.1.1-py3-none-any.whl.metadata (5.1 kB)\n",
      "Requirement already satisfied: python-dateutil>=2.7 in c:\\users\\navgurukul\\anaconda3\\envs\\myasha\\lib\\site-packages (from matplotlib) (2.8.2)\n",
      "Requirement already satisfied: six>=1.5 in c:\\users\\navgurukul\\anaconda3\\envs\\myasha\\lib\\site-packages (from python-dateutil>=2.7->matplotlib) (1.16.0)\n",
      "Downloading matplotlib-3.8.3-cp312-cp312-win_amd64.whl (7.6 MB)\n",
      "   ---------------------------------------- 0.0/7.6 MB ? eta -:--:--\n",
      "   - -------------------------------------- 0.2/7.6 MB 6.9 MB/s eta 0:00:02\n",
      "   --- ------------------------------------ 0.6/7.6 MB 7.4 MB/s eta 0:00:01\n",
      "   ---- ----------------------------------- 0.8/7.6 MB 8.8 MB/s eta 0:00:01\n",
      "   ------- -------------------------------- 1.4/7.6 MB 7.9 MB/s eta 0:00:01\n",
      "   --------- ------------------------------ 1.9/7.6 MB 8.7 MB/s eta 0:00:01\n",
      "   --------------- ------------------------ 3.0/7.6 MB 11.1 MB/s eta 0:00:01\n",
      "   ------------------ --------------------- 3.6/7.6 MB 11.4 MB/s eta 0:00:01\n",
      "   ------------------- -------------------- 3.8/7.6 MB 10.5 MB/s eta 0:00:01\n",
      "   ------------------- -------------------- 3.8/7.6 MB 9.3 MB/s eta 0:00:01\n",
      "   -------------------------- ------------- 5.1/7.6 MB 11.2 MB/s eta 0:00:01\n",
      "   ---------------------------------- ----- 6.5/7.6 MB 13.0 MB/s eta 0:00:01\n",
      "   ---------------------------------------  7.6/7.6 MB 14.4 MB/s eta 0:00:01\n",
      "   ---------------------------------------- 7.6/7.6 MB 12.9 MB/s eta 0:00:00\n",
      "Downloading contourpy-1.2.0-cp312-cp312-win_amd64.whl (187 kB)\n",
      "   ---------------------------------------- 0.0/187.7 kB ? eta -:--:--\n",
      "   --------------------------------------- 187.7/187.7 kB 11.1 MB/s eta 0:00:00\n",
      "Downloading cycler-0.12.1-py3-none-any.whl (8.3 kB)\n",
      "Downloading fonttools-4.49.0-cp312-cp312-win_amd64.whl (2.2 MB)\n",
      "   ---------------------------------------- 0.0/2.2 MB ? eta -:--:--\n",
      "   ---------------------------------------  2.2/2.2 MB 45.8 MB/s eta 0:00:01\n",
      "   ---------------------------------------- 2.2/2.2 MB 34.8 MB/s eta 0:00:00\n",
      "Downloading kiwisolver-1.4.5-cp312-cp312-win_amd64.whl (56 kB)\n",
      "   ---------------------------------------- 0.0/56.0 kB ? eta -:--:--\n",
      "   ---------------------------------------- 56.0/56.0 kB ? eta 0:00:00\n",
      "Downloading pillow-10.2.0-cp312-cp312-win_amd64.whl (2.6 MB)\n",
      "   ---------------------------------------- 0.0/2.6 MB ? eta -:--:--\n",
      "   -------------------- ------------------- 1.4/2.6 MB 43.9 MB/s eta 0:00:01\n",
      "   ------------------------------- -------- 2.1/2.6 MB 26.7 MB/s eta 0:00:01\n",
      "   ---------------------------------------- 2.6/2.6 MB 20.9 MB/s eta 0:00:00\n",
      "Downloading pyparsing-3.1.1-py3-none-any.whl (103 kB)\n",
      "   ---------------------------------------- 0.0/103.1 kB ? eta -:--:--\n",
      "   ---------------------------------------- 103.1/103.1 kB 6.2 MB/s eta 0:00:00\n",
      "Installing collected packages: pyparsing, pillow, kiwisolver, fonttools, cycler, contourpy, matplotlib\n",
      "Successfully installed contourpy-1.2.0 cycler-0.12.1 fonttools-4.49.0 kiwisolver-1.4.5 matplotlib-3.8.3 pillow-10.2.0 pyparsing-3.1.1\n",
      "Note: you may need to restart the kernel to use updated packages.\n"
     ]
    },
    {
     "name": "stderr",
     "output_type": "stream",
     "text": [
      "  WARNING: The scripts fonttools.exe, pyftmerge.exe, pyftsubset.exe and ttx.exe are installed in 'C:\\Users\\navgurukul\\anaconda3\\envs\\myasha\\Scripts' which is not on PATH.\n",
      "  Consider adding this directory to PATH or, if you prefer to suppress this warning, use --no-warn-script-location.\n"
     ]
    }
   ],
   "source": [
    "pip install matplotlib"
   ]
  },
  {
   "cell_type": "code",
   "execution_count": 46,
   "id": "532d9025",
   "metadata": {},
   "outputs": [
    {
     "name": "stdout",
     "output_type": "stream",
     "text": [
      "[<matplotlib.lines.Line2D object at 0x0000020D4E667B30>]\n"
     ]
    },
    {
     "data": {
      "image/png": "[encoded data removed]",
      "text/plain": [
       "<Figure size 640x480 with 1 Axes>"
      ]
     },
     "metadata": {},
     "output_type": "display_data"
    }
   ],
   "source": [
    "import matplotlib.pyplot as plt\n",
    "\n",
    "x=np.linspace(-10,10,100)\n",
    "y=x\n",
    "print(plt.plot(x,y))"
   ]
  },
  {
   "cell_type": "code",
   "execution_count": 17,
   "id": "ce28bb0a",
   "metadata": {},
   "outputs": [
    {
     "name": "stdout",
     "output_type": "stream",
     "text": [
      "[<matplotlib.lines.Line2D object at 0x0000023A20652360>]\n"
     ]
    },
    {
     "data": {
      "image/png": "[encoded data removed]",
      "text/plain": [
       "<Figure size 640x480 with 1 Axes>"
      ]
     },
     "metadata": {},
     "output_type": "display_data"
    }
   ],
   "source": [
    "import numpy as np\n",
    "import matplotlib.pyplot as plt\n",
    "# y=x**2\n",
    "\n",
    "a=np.linspace(-10,10,100)\n",
    "y=a**2\n",
    "\n",
    "print(plt.plot(a,y))"
   ]
  },
  {
   "cell_type": "code",
   "execution_count": 18,
   "id": "e559a587",
   "metadata": {},
   "outputs": [
    {
     "name": "stdout",
     "output_type": "stream",
     "text": [
      "[<matplotlib.lines.Line2D object at 0x0000023A20691730>]\n"
     ]
    },
    {
     "data": {
      "image/png": "[encoded data removed]",
      "text/plain": [
       "<Figure size 640x480 with 1 Axes>"
      ]
     },
     "metadata": {},
     "output_type": "display_data"
    }
   ],
   "source": [
    "x=np.linspace(-10,10,100)\n",
    "y=np.sin(x)\n",
    "print(plt.plot(x,y))"
   ]
  },
  {
   "cell_type": "code",
   "execution_count": null,
   "id": "85fd2d5a",
   "metadata": {},
   "outputs": [],
   "source": [
    "# y=x.log(x)\n",
    "\n",
    "x=np.linspace(1,10,100)\n",
    "\n",
    "y=x * np.log(x)\n",
    "print(plt.plot(x,y))"
   ]
  },
  {
   "cell_type": "markdown",
   "id": "a0584952",
   "metadata": {},
   "source": [
    "# Numpy some tricks"
   ]
  },
  {
   "cell_type": "markdown",
   "id": "81de89b7",
   "metadata": {},
   "source": [
    "Sort():- sort in numpy array"
   ]
  },
  {
   "cell_type": "code",
   "execution_count": 28,
   "id": "7664b841",
   "metadata": {},
   "outputs": [
    {
     "name": "stdout",
     "output_type": "stream",
     "text": [
      "[ 1 10 13 30 37 37 60 73 81 86]\n",
      "[86 81 73 60 37 37 30 13 10  1]\n"
     ]
    }
   ],
   "source": [
    "a=np.random.randint(1,100,10)\n",
    "print(np.sort(a))\n",
    "# desencing order\n",
    "print(np.sort(a)[::-1])"
   ]
  },
  {
   "cell_type": "code",
   "execution_count": 19,
   "id": "35065121",
   "metadata": {},
   "outputs": [
    {
     "name": "stdout",
     "output_type": "stream",
     "text": [
      "1\n",
      "[1 2 3]\n"
     ]
    }
   ],
   "source": [
    "import numpy as np\n",
    "\n",
    "arr = np.array([6, 7, 8, 9])\n",
    "\n",
    "x = np.searchsorted(arr, 7)\n",
    "\n",
    "print(x)\n",
    "\n",
    "# where we can insert values\n",
    "\n",
    "import numpy as np\n",
    "\n",
    "arr = np.array([1, 3, 5, 7])\n",
    "\n",
    "x = np.searchsorted(arr, [2, 4, 6])\n",
    "\n",
    "print(x)"
   ]
  },
  {
   "cell_type": "code",
   "execution_count": 32,
   "id": "a14c5294",
   "metadata": {},
   "outputs": [
    {
     "name": "stdout",
     "output_type": "stream",
     "text": [
      "[[ 4 35  7 10 63 52]\n",
      " [94 64  5 88 41 32]\n",
      " [36 55 68 59  1 84]\n",
      " [50 45 86 98 30 96]]\n",
      "\n",
      "[[ 4  7 10 35 52 63]\n",
      " [ 5 32 41 64 88 94]\n",
      " [ 1 36 55 59 68 84]\n",
      " [30 45 50 86 96 98]]\n",
      "\n",
      "[[ 4 35  5 10  1 32]\n",
      " [36 45  7 59 30 52]\n",
      " [50 55 68 88 41 84]\n",
      " [94 64 86 98 63 96]]\n"
     ]
    }
   ],
   "source": [
    "b=np.random.randint(1,100,24).reshape(4,6)\n",
    "print(b)\n",
    "print()\n",
    "print(np.sort(b))# sorting by row\n",
    "print()\n",
    "print(np.sort(b,axis=0))# sorting by colunm"
   ]
  },
  {
   "cell_type": "markdown",
   "id": "ce897418",
   "metadata": {},
   "source": [
    "append in numpy array"
   ]
  },
  {
   "cell_type": "code",
   "execution_count": 40,
   "id": "27dfa368",
   "metadata": {},
   "outputs": [
    {
     "name": "stdout",
     "output_type": "stream",
     "text": [
      "[ 88  31  48  92  72  86   7  62  35  70 400]\n",
      "\n",
      "[[33.         25.         39.         25.         52.         63.\n",
      "   0.30536271]\n",
      " [60.         12.         62.         92.         78.         51.\n",
      "   0.75646426]\n",
      " [21.         46.         80.         47.         77.         48.\n",
      "   0.18731018]\n",
      " [27.         20.         63.         69.         88.         10.\n",
      "   0.83324545]]\n",
      "\n",
      "[[33 25 39 25 52 63  3]\n",
      " [60 12 62 92 78 51 13]\n",
      " [21 46 80 47 77 48 18]\n",
      " [27 20 63 69 88 10  3]]\n"
     ]
    }
   ],
   "source": [
    "a=np.random.randint(1,100,10)\n",
    "print(np.append(a,400))\n",
    "print()\n",
    "b=np.random.randint(1,100,24).reshape(4,6)\n",
    "print(np.append(b,np.random.random((b.shape[0],1)),axis=1))\n",
    "print()\n",
    "print(np.append(b,np.random.randint(1, 20, (b.shape[0], 1)),axis=1))\n"
   ]
  },
  {
   "cell_type": "markdown",
   "id": "6015ec5a",
   "metadata": {},
   "source": [
    "To concatenate two NumPy arrays along a specified axis, you can use the np.concatenate function."
   ]
  },
  {
   "cell_type": "code",
   "execution_count": 44,
   "id": "94ac7d5d",
   "metadata": {},
   "outputs": [
    {
     "name": "stdout",
     "output_type": "stream",
     "text": [
      "[[ 0  1  2]\n",
      " [ 3  4  5]\n",
      " [ 6  7  8]\n",
      " [ 9 10 11]\n",
      " [12 13 14]\n",
      " [15 16 17]\n",
      " [18 19 20]\n",
      " [21 22 23]]\n",
      "\n",
      "\n",
      "[[ 0  1  2 12 13 14]\n",
      " [ 3  4  5 15 16 17]\n",
      " [ 6  7  8 18 19 20]\n",
      " [ 9 10 11 21 22 23]]\n"
     ]
    }
   ],
   "source": [
    "a=np.arange(0,12).reshape(4,3)\n",
    "b=np.arange(12,24).reshape(4,3)\n",
    "print(np.concatenate((a,b),axis=0))\n",
    "print()\n",
    "print()\n",
    "print(np.concatenate((a,b),axis=1))"
   ]
  },
  {
   "cell_type": "markdown",
   "id": "52f1b81f",
   "metadata": {},
   "source": [
    "unique"
   ]
  },
  {
   "cell_type": "code",
   "execution_count": 46,
   "id": "1f1f2eb1",
   "metadata": {},
   "outputs": [
    {
     "name": "stdout",
     "output_type": "stream",
     "text": [
      "[1 2 3 4 5 6]\n"
     ]
    }
   ],
   "source": [
    "a=np.array([1,1,2,2,2,3,4,4,5,5,6])\n",
    "print(np.unique(a))"
   ]
  },
  {
   "cell_type": "markdown",
   "id": "7ea23e34",
   "metadata": {},
   "source": [
    "np.expand_dims():-  they change the dimention of array"
   ]
  },
  {
   "cell_type": "code",
   "execution_count": 51,
   "id": "4faf71fa",
   "metadata": {},
   "outputs": [
    {
     "name": "stdout",
     "output_type": "stream",
     "text": [
      "(9,)\n",
      "(1, 9)\n",
      "(9, 1)\n"
     ]
    }
   ],
   "source": [
    "a=np.arange(1,10)\n",
    "print(a.shape)\n",
    "b=np.expand_dims(a,axis=0)\n",
    "print(b.shape)\n",
    "c=np.expand_dims(a,axis=1)\n",
    "print(c.shape)"
   ]
  },
  {
   "cell_type": "markdown",
   "id": "d09802d0",
   "metadata": {},
   "source": [
    "np.where:- return those index number which condition is satisfied\n",
    "this method use like replace value syntex : np.where(condition,true,false)"
   ]
  },
  {
   "cell_type": "code",
   "execution_count": 54,
   "id": "ee0fa33c",
   "metadata": {},
   "outputs": [
    {
     "name": "stdout",
     "output_type": "stream",
     "text": [
      "[0 1 2 3 4 5 6 7 8 9]\n",
      "\n",
      "(array([0, 2, 4, 6, 8], dtype=int64),)\n",
      "\n",
      "[0 1 0 3 0 5 0 7 0 9]\n"
     ]
    }
   ],
   "source": [
    "a=np.arange(0,10)\n",
    "print(a)\n",
    "print()\n",
    "print(np.where(a%2==0))\n",
    "print()\n",
    "print(np.where(a%2==0,0,a))"
   ]
  },
  {
   "cell_type": "markdown",
   "id": "1d13f818",
   "metadata": {},
   "source": [
    "np.argmax:- return idicies value of an array of max value\n",
    "np.argmin:- return indici min value in array"
   ]
  },
  {
   "cell_type": "code",
   "execution_count": 59,
   "id": "1c0bf481",
   "metadata": {},
   "outputs": [
    {
     "name": "stdout",
     "output_type": "stream",
     "text": [
      "[ 1  2  3  4  5  6  7  8  9 10]\n",
      "9\n",
      "[[ 0  1  2  3]\n",
      " [ 4  5  6  7]\n",
      " [ 8  9 10 11]]\n",
      "\n",
      "11\n",
      "\n",
      "[2 2 2 2]\n",
      "\n",
      "[3 3 3]\n"
     ]
    }
   ],
   "source": [
    "a=np.arange(1,11)\n",
    "print(a)\n",
    "print(np.argmax(a))\n",
    "b=np.arange(0,12).reshape(3,4)\n",
    "print(b)\n",
    "print()\n",
    "print(np.argmax(b))\n",
    "print()\n",
    "print(np.argmax(b,axis=0))\n",
    "print()\n",
    "print(np.argmax(b,axis=1))\n"
   ]
  },
  {
   "cell_type": "code",
   "execution_count": 60,
   "id": "2539e2c2",
   "metadata": {},
   "outputs": [
    {
     "name": "stdout",
     "output_type": "stream",
     "text": [
      "[12 13 14 15 16 17 18 19 20 21 22 23]\n",
      "0\n"
     ]
    }
   ],
   "source": [
    "a=np.arange(12,24)\n",
    "print(a)\n",
    "print(np.argmin(a))"
   ]
  },
  {
   "cell_type": "markdown",
   "id": "8446a6cf",
   "metadata": {},
   "source": [
    "np.cumsum:- add in cureent array with last array index value likke prefix\n",
    "np.cumprod:-"
   ]
  },
  {
   "cell_type": "code",
   "execution_count": 62,
   "id": "4f5ec4a8",
   "metadata": {},
   "outputs": [
    {
     "name": "stdout",
     "output_type": "stream",
     "text": [
      "[ 1  2  3  4  5  6  7  8  9 10]\n",
      "[ 1  3  6 10 15 21 28 36 45 55]\n"
     ]
    }
   ],
   "source": [
    "a=np.arange(1,11)\n",
    "print(a)\n",
    "print(np.cumsum(a))"
   ]
  },
  {
   "cell_type": "code",
   "execution_count": 64,
   "id": "578f4763",
   "metadata": {},
   "outputs": [
    {
     "name": "stdout",
     "output_type": "stream",
     "text": [
      "[[ 0  1  2  3]\n",
      " [ 4  5  6  7]\n",
      " [ 8  9 10 11]]\n",
      "\n",
      "[[ 0  1  2  3]\n",
      " [ 4  6  8 10]\n",
      " [12 15 18 21]]\n"
     ]
    }
   ],
   "source": [
    "b=np.arange(0,12).reshape(3,4)\n",
    "print(b)\n",
    "print()\n",
    "print(np.cumsum(b,axis=0))"
   ]
  },
  {
   "cell_type": "code",
   "execution_count": 66,
   "id": "dfe653ce",
   "metadata": {},
   "outputs": [
    {
     "name": "stdout",
     "output_type": "stream",
     "text": [
      "[ 1  2  3  4  5  6  7  8  9 10]\n",
      "\n",
      "[      1       2       6      24     120     720    5040   40320  362880\n",
      " 3628800]\n"
     ]
    }
   ],
   "source": [
    "a=np.arange(1,11)\n",
    "print(a)\n",
    "print()\n",
    "print(np.cumprod(a))"
   ]
  },
  {
   "cell_type": "markdown",
   "id": "2e63ec59",
   "metadata": {},
   "source": [
    "np.percetile:- calcualte percentile of array"
   ]
  },
  {
   "cell_type": "code",
   "execution_count": 71,
   "id": "cf342ee0",
   "metadata": {},
   "outputs": [
    {
     "name": "stdout",
     "output_type": "stream",
     "text": [
      "[12 13 14 15 16 17 18 19 20 21 22 23 24 25 26 27 28 29 30 31 32 33 34 35]\n",
      "\n",
      "35.0\n",
      "23.5\n"
     ]
    }
   ],
   "source": [
    "a=np.arange(12,36)\n",
    "print(a)\n",
    "print()\n",
    "print(np.percentile(a,100))\n",
    "print(np.percentile(a,50))"
   ]
  },
  {
   "cell_type": "markdown",
   "id": "f154a122",
   "metadata": {},
   "source": [
    "np.histogram:- for give frequesy in within given range like graph 0-10,10-20 fruquncy 3,4"
   ]
  },
  {
   "cell_type": "code",
   "execution_count": 7,
   "id": "649e2c54",
   "metadata": {},
   "outputs": [
    {
     "name": "stdout",
     "output_type": "stream",
     "text": [
      "[59 57 23  4 70 88 44 67 51 89 90 75 62 36 57 13  3 60 78  6 44 56 75 54\n",
      " 48]\n",
      "\n",
      "(array([3, 1, 1, 1, 3], dtype=int64), array([ 0, 10, 20, 30, 40, 50]))\n"
     ]
    },
    {
     "data": {
      "text/plain": [
       "(array([[5., 0., 0., 0., 0., 0., 0., 0., 0., 0.],\n",
       "        [1., 0., 1., 0., 1., 0., 1., 0., 1., 1.]]),\n",
       " array([ 0.,  5., 10., 15., 20., 25., 30., 35., 40., 45., 50.]),\n",
       " <a list of 2 BarContainer objects>)"
      ]
     },
     "execution_count": 7,
     "metadata": {},
     "output_type": "execute_result"
    },
    {
     "data": {
      "image/png": "[encoded data removed]",
      "text/plain": [
       "<Figure size 640x480 with 1 Axes>"
      ]
     },
     "metadata": {},
     "output_type": "display_data"
    }
   ],
   "source": [
    "import matplotlib.pyplot as plt\n",
    "a=np.random.randint(1,100,25)\n",
    "print(a)\n",
    "print()\n",
    "x=np.histogram(a,bins=[0,10,20,30,40,50])\n",
    "print(x)\n",
    "plt.hist(x)"
   ]
  },
  {
   "cell_type": "markdown",
   "id": "70f7b24c",
   "metadata": {},
   "source": [
    "np.corrcoef:- relation between like experience ans salary connected"
   ]
  },
  {
   "cell_type": "code",
   "execution_count": 73,
   "id": "c3586c56",
   "metadata": {},
   "outputs": [
    {
     "name": "stdout",
     "output_type": "stream",
     "text": [
      "[[1. 1.]\n",
      " [1. 1.]]\n"
     ]
    }
   ],
   "source": [
    "salary=np.array([20000,30000,40000,50000])\n",
    "experince=np.array([1,2,3,4])\n",
    "\n",
    "print(np.corrcoef(salary,experince))"
   ]
  },
  {
   "cell_type": "markdown",
   "id": "776b4b03",
   "metadata": {},
   "source": [
    "np.isin:- for search multiple item in given array in same time"
   ]
  },
  {
   "cell_type": "code",
   "execution_count": 75,
   "id": "9779be95",
   "metadata": {},
   "outputs": [
    {
     "name": "stdout",
     "output_type": "stream",
     "text": [
      "[10 11 12 13 14 15 16 17 18 19 20 21 22 23 24 25 26 27 28 29 30 31 32 33\n",
      " 34 35 36 37 38 39 40]\n",
      "[False False  True False False False False False False False False False\n",
      "  True False False False False False False False False False False  True\n",
      " False False False False False False  True]\n",
      "\n",
      "[12 22 33 40]\n"
     ]
    }
   ],
   "source": [
    "a=np.arange(10,41)\n",
    "print(a)\n",
    "item=[2,3,22,33,12,40]\n",
    "print(np.isin(a,item))\n",
    "print()\n",
    "print(a[np.isin(a,item)])"
   ]
  },
  {
   "cell_type": "markdown",
   "id": "3746fb37",
   "metadata": {},
   "source": [
    "np.flip:- we can flip in arrai every type array 1d,2d"
   ]
  },
  {
   "cell_type": "code",
   "execution_count": 77,
   "id": "056d2047",
   "metadata": {},
   "outputs": [
    {
     "name": "stdout",
     "output_type": "stream",
     "text": [
      "[10 11 12 13 14 15 16 17 18 19 20 21 22 23 24 25 26 27 28 29 30]\n",
      "[30 29 28 27 26 25 24 23 22 21 20 19 18 17 16 15 14 13 12 11 10]\n"
     ]
    }
   ],
   "source": [
    "a=np.arange(10,31)\n",
    "print(a)\n",
    "print(np.flip(a)) # its just flip not in decending order by value"
   ]
  },
  {
   "cell_type": "markdown",
   "id": "bb41200c",
   "metadata": {},
   "source": [
    "np.put:- change in array with any value on permanant basic"
   ]
  },
  {
   "cell_type": "code",
   "execution_count": 81,
   "id": "5f3c4d95",
   "metadata": {},
   "outputs": [
    {
     "name": "stdout",
     "output_type": "stream",
     "text": [
      "[10 11 12 13 14 15 16 17 18 19 20 21 22 23 24 25 26 27 28 29 30]\n",
      "None\n",
      "[  10 1000   12   13 1000   15   16   17   18   19   20   21   22   23\n",
      "   24   25   26   27   28   29   30]\n"
     ]
    }
   ],
   "source": [
    "a=np.arange(10,31)\n",
    "print(a)\n",
    "print(np.put(a,[1,4],[1000,1000]))# show nothing becuase change in original array when we can see result\n",
    "                                    #that means not cange in original array \n",
    "print(a)"
   ]
  },
  {
   "cell_type": "markdown",
   "id": "932bd437",
   "metadata": {},
   "source": [
    "np.delete:- delete any value in array"
   ]
  },
  {
   "cell_type": "code",
   "execution_count": 2,
   "id": "9fc77be3",
   "metadata": {},
   "outputs": [
    {
     "name": "stdout",
     "output_type": "stream",
     "text": [
      "[20 21 22 23 24 25 26 27 28 29 30]\n",
      "[21 22 23 24 25 26 27 28 29 30]\n",
      "[20 21 23 25 26 27 28 29 30]\n"
     ]
    }
   ],
   "source": [
    "import numpy as np\n",
    "\n",
    "a=np.arange(20,31)\n",
    "print(a)\n",
    "print(np.delete(a,0))\n",
    "print(np.delete(a,[2,4]))# multiple delete values"
   ]
  },
  {
   "cell_type": "markdown",
   "id": "4866071c",
   "metadata": {},
   "source": [
    "# set function"
   ]
  },
  {
   "cell_type": "code",
   "execution_count": 13,
   "id": "a084bd27",
   "metadata": {},
   "outputs": [
    {
     "name": "stdout",
     "output_type": "stream",
     "text": [
      "[2 3 4 5 6 7 8]\n",
      "[4 5 6]\n",
      "[2 3]\n",
      "[7 8]\n",
      "[2 3 7 8]\n",
      "[False False False False  True]\n",
      "[8]\n"
     ]
    }
   ],
   "source": [
    "a=np.array([2,3,4,5,6])\n",
    "b=np.array([4,5,6,7,8])\n",
    "\n",
    "print(np.union1d(a,b))\n",
    "print(np.intersect1d(a,b))\n",
    "print(np.setdiff1d(a,b))\n",
    "print(np.setdiff1d(b,a))\n",
    "print(np.setxor1d(a,b))\n",
    "print(np.in1d(b,8))\n",
    "print(b[np.in1d(b,8)])# mask"
   ]
  },
  {
   "cell_type": "markdown",
   "id": "f9216138",
   "metadata": {},
   "source": [
    "np.clip():- for uses keep value in certain range"
   ]
  },
  {
   "cell_type": "code",
   "execution_count": 15,
   "id": "d83cd0ff",
   "metadata": {},
   "outputs": [
    {
     "name": "stdout",
     "output_type": "stream",
     "text": [
      "[ 5  5  5  5  6  7  8  9 10 11]\n"
     ]
    }
   ],
   "source": [
    "a=np.array([2,3,4,5,6,7,8,9,10,11])\n",
    "print(np.clip(a,a_min=5,a_max=15))"
   ]
  },
  {
   "cell_type": "code",
   "execution_count": 29,
   "id": "890b91dd",
   "metadata": {},
   "outputs": [
    {
     "name": "stdout",
     "output_type": "stream",
     "text": [
      "Enter number: 3\n",
      "[1 3 2]\n",
      "[1 3 2]\n",
      "[3 1 2]\n",
      "[2 3 1]\n",
      "[1 3 2]\n",
      "[2 1 3]\n"
     ]
    }
   ],
   "source": [
    "# permutation in list with random\n",
    "import numpy as np\n",
    "import math\n",
    "\n",
    "n = int(input(\"Enter number: \"))\n",
    "a = np.arange(1, n+1)\n",
    "num_permutations = math.factorial(n)\n",
    "\n",
    "for _ in range(num_permutations):\n",
    "    np.random.shuffle(a)\n",
    "    print(a)\n",
    "\n"
   ]
  },
  {
   "cell_type": "code",
   "execution_count": 8,
   "id": "74624829",
   "metadata": {},
   "outputs": [
    {
     "name": "stdout",
     "output_type": "stream",
     "text": [
      "Enter number: 3\n",
      "(1, 2, 3)\n",
      "(1, 3, 2)\n",
      "(2, 1, 3)\n",
      "(2, 3, 1)\n",
      "(3, 1, 2)\n",
      "(3, 2, 1)\n",
      "\n",
      "(1, 2)\n",
      "(1, 3)\n",
      "(2, 3)\n"
     ]
    }
   ],
   "source": [
    "import itertools\n",
    "\n",
    "n = int(input(\"Enter number: \"))\n",
    "a = list(range(1, n+1))\n",
    "\n",
    "for perm in itertools.permutations(a):\n",
    "    print(perm)\n",
    "print()    \n",
    "for perm in itertools.combinations(a, 2):\n",
    "    print(perm)\n"
   ]
  },
  {
   "cell_type": "code",
   "execution_count": 37,
   "id": "9cfab757",
   "metadata": {},
   "outputs": [
    {
     "name": "stdout",
     "output_type": "stream",
     "text": [
      "enter the number:-3\n",
      "[3 1 2]\n",
      "[2 3 1]\n",
      "[1 2 3]\n",
      "[1 2 3]\n",
      "[2 3 1]\n",
      "[3 1 2]\n"
     ]
    }
   ],
   "source": [
    "n=int(input(\"enter the number:-\"))\n",
    "a=np.arange(1,n+1)\n",
    "y=math.perm(n)\n",
    "for i in range(y):\n",
    "    x=np.random.permutation(a)\n",
    "    print(x)"
   ]
  },
  {
   "cell_type": "code",
   "execution_count": 10,
   "id": "44e3bb5c",
   "metadata": {},
   "outputs": [
    {
     "name": "stdout",
     "output_type": "stream",
     "text": [
      "[5, 7, 9, 11]\n"
     ]
    }
   ],
   "source": [
    "x = [1, 2, 3, 4]\n",
    "y = [4, 5, 6, 7]\n",
    "z = []\n",
    "\n",
    "for i, j in zip(x, y):\n",
    "    z.append(i + j)\n",
    "print(z)"
   ]
  },
  {
   "cell_type": "code",
   "execution_count": 4,
   "id": "6a970d71",
   "metadata": {},
   "outputs": [
    {
     "data": {
      "text/plain": [
       "array([0.86949256, 0.52276825, 0.74863173, 0.71519461, 0.11489842,\n",
       "       0.10567655, 0.16827068, 0.20264758, 0.73144358, 0.28292714,\n",
       "       0.84019199, 0.64621795, 0.7517695 , 0.60885538, 0.53303499])"
      ]
     },
     "execution_count": 4,
     "metadata": {},
     "output_type": "execute_result"
    }
   ],
   "source": [
    "import numpy as np\n",
    "df=np.random.random(15)\n",
    "df"
   ]
  },
  {
   "cell_type": "code",
   "execution_count": 5,
   "id": "eed189e3",
   "metadata": {},
   "outputs": [
    {
     "data": {
      "text/plain": [
       "array([82, 90, 90, 71, 16,  6,  5, 37, 49, 41, 93, 92, 63, 89, 79, 88, 78,\n",
       "       66, 59,  8, 56, 35, 43,  5,  4])"
      ]
     },
     "execution_count": 5,
     "metadata": {},
     "output_type": "execute_result"
    }
   ],
   "source": [
    "tf=np.random.randint(1,100,25)\n",
    "tf\n"
   ]
  },
  {
   "cell_type": "code",
   "execution_count": null,
   "id": "4ac50489",
   "metadata": {},
   "outputs": [],
   "source": [
    "import matplotlib.pyplot as plt\n",
    "\n",
    "# Data\n",
    "medals = ['Gold', 'Silver', 'Bronze']\n",
    "counts = [90, 59, 89]\n",
    "\n",
    "plt.bar(medals, counts, color=['gold', 'silver', 'brown'])\n",
    "plt.xlabel('Medal Type')\n",
    "plt.ylabel('Count')\n",
    "plt.title('Indian Medals in 2022 Olympics')\n",
    "plt.show()\n"
   ]
  },
  {
   "cell_type": "code",
   "execution_count": 21,
   "id": "cfe8a98d",
   "metadata": {},
   "outputs": [
    {
     "data": {
      "image/png": "[encoded data removed]",
      "text/plain": [
       "<Figure size 640x480 with 1 Axes>"
      ]
     },
     "metadata": {},
     "output_type": "display_data"
    }
   ],
   "source": [
    "import matplotlib.pyplot as plt\n",
    "\n",
    "a=np.arange(1,11)\n",
    "b=np.arange(2,21,2)\n",
    "c=np.arange(1,21,2)\n",
    "plt.plot(a,b,label=\"Even number\")\n",
    "plt.plot(a, c, label=\"Odd number\")\n",
    "plt.title(\"new graph\")\n",
    "plt.xlabel(\"continious no\")\n",
    "plt.ylabel(\"random no\")\n",
    "plt.legend(loc=3)\n",
    "plt.show()"
   ]
  },
  {
   "cell_type": "code",
   "execution_count": 23,
   "id": "5995ff73",
   "metadata": {},
   "outputs": [
    {
     "data": {
      "image/png": "[encoded data removed]",
      "text/plain": [
       "<Figure size 640x480 with 1 Axes>"
      ]
     },
     "metadata": {},
     "output_type": "display_data"
    }
   ],
   "source": [
    "import matplotlib.pyplot as plt\n",
    "\n",
    "medals=[\"gold\",\"silver\",\"bronze\"]\n",
    "numbers=[90,59,89]\n",
    "plt.bar(medals,numbers,color=[\"red\",\"green\",\"yellow\"])\n",
    "plt.title(\"2022 india medal list\")\n",
    "plt.xlabel(\"medals\")\n",
    "plt.ylabel(\"numbers\")\n",
    "plt.show()"
   ]
  },
  {
   "cell_type": "code",
   "execution_count": null,
   "id": "83bd3b4d",
   "metadata": {},
   "outputs": [],
   "source": []
  }
 ],
 "metadata": {
  "kernelspec": {
   "display_name": "py3-kernel",
   "language": "python",
   "name": "py3-kernel"
  },
  "language_info": {
   "codemirror_mode": {
    "name": "ipython",
    "version": 3
   },
   "file_extension": ".py",
   "mimetype": "text/x-python",
   "name": "python",
   "nbconvert_exporter": "python",
   "pygments_lexer": "ipython3",
   "version": "3.12.1"
  }
 },
 "nbformat": 4,
 "nbformat_minor": 5
}
